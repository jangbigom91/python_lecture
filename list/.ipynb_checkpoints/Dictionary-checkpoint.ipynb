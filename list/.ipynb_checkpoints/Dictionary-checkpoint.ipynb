{
 "cells": [
  {
   "cell_type": "markdown",
   "id": "adee6f50",
   "metadata": {},
   "source": [
    "### 딕셔너리"
   ]
  },
  {
   "cell_type": "markdown",
   "id": "c7d5b75d",
   "metadata": {},
   "source": [
    "##### {Key1:Value1, Key2:Value2, Key3:Value3, ...}"
   ]
  },
  {
   "cell_type": "code",
   "execution_count": 2,
   "id": "58b1af2a",
   "metadata": {},
   "outputs": [
    {
     "data": {
      "text/plain": [
       "dict"
      ]
     },
     "execution_count": 2,
     "metadata": {},
     "output_type": "execute_result"
    }
   ],
   "source": [
    "dic = dict{}\n",
    "type(dic)"
   ]
  },
  {
   "cell_type": "code",
   "execution_count": 5,
   "id": "d9492f29",
   "metadata": {},
   "outputs": [
    {
     "data": {
      "text/plain": [
       "3"
      ]
     },
     "execution_count": 5,
     "metadata": {},
     "output_type": "execute_result"
    }
   ],
   "source": [
    "dic = {'name':'pey', 'phone':'0119993323', 'birth': '1118'}\n",
    "len(dic)"
   ]
  },
  {
   "cell_type": "markdown",
   "id": "239a13c4",
   "metadata": {},
   "source": [
    "### 딕셔너리 쌍 추가, 삭제하기"
   ]
  },
  {
   "cell_type": "code",
   "execution_count": 7,
   "id": "1f790b21",
   "metadata": {},
   "outputs": [
    {
     "data": {
      "text/plain": [
       "{1: 'a', 2: 'b'}"
      ]
     },
     "execution_count": 7,
     "metadata": {},
     "output_type": "execute_result"
    }
   ],
   "source": [
    "a = {1: 'a'}\n",
    "a[2] = 'b'\n",
    "a"
   ]
  },
  {
   "cell_type": "code",
   "execution_count": 11,
   "id": "f0a9016d",
   "metadata": {},
   "outputs": [
    {
     "data": {
      "text/plain": [
       "1"
      ]
     },
     "execution_count": 11,
     "metadata": {},
     "output_type": "execute_result"
    }
   ],
   "source": [
    "a[\"c\"] = 1\n",
    "a"
   ]
  },
  {
   "cell_type": "code",
   "execution_count": 12,
   "id": "af13f98a",
   "metadata": {},
   "outputs": [
    {
     "data": {
      "text/plain": [
       "{1: 'a', 2: 'b', 'c': 1, 3: [1, 2, 3]}"
      ]
     },
     "execution_count": 12,
     "metadata": {},
     "output_type": "execute_result"
    }
   ],
   "source": [
    "a[3] = [1,2,3]\n",
    "a"
   ]
  },
  {
   "cell_type": "markdown",
   "id": "46c17b32",
   "metadata": {},
   "source": [
    "### 딕셔너리 요소 삭제하기"
   ]
  },
  {
   "cell_type": "code",
   "execution_count": 13,
   "id": "18ddbdb2",
   "metadata": {},
   "outputs": [
    {
     "data": {
      "text/plain": [
       "{1: 'a', 2: 'b', 'c': 1}"
      ]
     },
     "execution_count": 13,
     "metadata": {},
     "output_type": "execute_result"
    }
   ],
   "source": [
    "a = {1: 'a', 2: 'b', 'c': 1, 3: [1, 2, 3]}\n",
    "\n",
    "del a[3]  #  del a[key]\n",
    "a"
   ]
  },
  {
   "cell_type": "markdown",
   "id": "9fada9b8",
   "metadata": {},
   "source": [
    "### 딕셔너리에서 Key 사용해 Value 얻기"
   ]
  },
  {
   "cell_type": "code",
   "execution_count": 17,
   "id": "b9902803",
   "metadata": {},
   "outputs": [
    {
     "data": {
      "text/plain": [
       "'피겨스케이팅'"
      ]
     },
     "execution_count": 17,
     "metadata": {},
     "output_type": "execute_result"
    }
   ],
   "source": [
    "data_dic = {\"김연아\":\"피겨스케이팅\", \"류현진\":\"야구\", \"손흥민\":\"축구\", \"귀도\":\"파이썬\"}\n",
    "\n",
    "data_dic[\"김연아\"]"
   ]
  },
  {
   "cell_type": "markdown",
   "id": "02abaa44",
   "metadata": {},
   "source": [
    "### 딕셔너리 관련 함수들\n",
    "##### Key 리스트 만들기(keys)"
   ]
  },
  {
   "cell_type": "code",
   "execution_count": 28,
   "id": "64fa27fb",
   "metadata": {},
   "outputs": [
    {
     "data": {
      "text/plain": [
       "dict_keys(['김연아', '류현진', '손흥민', '귀도'])"
      ]
     },
     "execution_count": 28,
     "metadata": {},
     "output_type": "execute_result"
    }
   ],
   "source": [
    "data_dic = {\"김연아\":\"피겨스케이팅\", \"류현진\":\"야구\", \"손흥민\":\"축구\", \"귀도\":\"파이썬\"}\n",
    "data_dic.keys()"
   ]
  },
  {
   "cell_type": "code",
   "execution_count": 29,
   "id": "8291eaa9",
   "metadata": {},
   "outputs": [
    {
     "data": {
      "text/plain": [
       "['김연아', '류현진', '손흥민', '귀도']"
      ]
     },
     "execution_count": 29,
     "metadata": {},
     "output_type": "execute_result"
    }
   ],
   "source": [
    "list(data_dic.keys())"
   ]
  },
  {
   "cell_type": "markdown",
   "id": "e3e15f6f",
   "metadata": {},
   "source": [
    "##### Value 리스트 만들기(values)"
   ]
  },
  {
   "cell_type": "code",
   "execution_count": 21,
   "id": "40003bdd",
   "metadata": {},
   "outputs": [
    {
     "data": {
      "text/plain": [
       "dict_values(['피겨스케이팅', '야구', '축구', '파이썬'])"
      ]
     },
     "execution_count": 21,
     "metadata": {},
     "output_type": "execute_result"
    }
   ],
   "source": [
    "data_dic = {\"김연아\":\"피겨스케이팅\", \"류현진\":\"야구\", \"손흥민\":\"축구\", \"귀도\":\"파이썬\"}\n",
    "data_dic.values()"
   ]
  },
  {
   "cell_type": "code",
   "execution_count": 26,
   "id": "789d48e6",
   "metadata": {},
   "outputs": [
    {
     "data": {
      "text/plain": [
       "['피겨스케이팅', '야구', '축구', '파이썬']"
      ]
     },
     "execution_count": 26,
     "metadata": {},
     "output_type": "execute_result"
    }
   ],
   "source": [
    "list(data_dic.values())"
   ]
  },
  {
   "cell_type": "markdown",
   "id": "c4ce7a30",
   "metadata": {},
   "source": [
    "### Key, Value 쌍 얻기(items)"
   ]
  },
  {
   "cell_type": "code",
   "execution_count": 30,
   "id": "f6dbb996",
   "metadata": {},
   "outputs": [
    {
     "data": {
      "text/plain": [
       "dict_items([('김연아', '피겨스케이팅'), ('류현진', '야구'), ('손흥민', '축구'), ('귀도', '파이썬')])"
      ]
     },
     "execution_count": 30,
     "metadata": {},
     "output_type": "execute_result"
    }
   ],
   "source": [
    "data_dic = {\"김연아\":\"피겨스케이팅\", \"류현진\":\"야구\", \"손흥민\":\"축구\", \"귀도\":\"파이썬\"}\n",
    "data_dic.items()"
   ]
  },
  {
   "cell_type": "code",
   "execution_count": 32,
   "id": "68811379",
   "metadata": {},
   "outputs": [
    {
     "data": {
      "text/plain": [
       "{'김연아': '피겨스케이팅', '류현진': '야구', '손흥민': '축구', '귀도': '파이썬'}"
      ]
     },
     "execution_count": 32,
     "metadata": {},
     "output_type": "execute_result"
    }
   ],
   "source": [
    "dict([('김연아', '피겨스케이팅'), ('류현진', '야구'), ('손흥민', '축구'), ('귀도', '파이썬')])"
   ]
  },
  {
   "cell_type": "markdown",
   "id": "4668fa63",
   "metadata": {},
   "source": [
    "### Key: Value 쌍 모두 지우기(clear)"
   ]
  },
  {
   "cell_type": "code",
   "execution_count": 35,
   "id": "d385cf02",
   "metadata": {},
   "outputs": [
    {
     "data": {
      "text/plain": [
       "{}"
      ]
     },
     "execution_count": 35,
     "metadata": {},
     "output_type": "execute_result"
    }
   ],
   "source": [
    "data_dic = {\"김연아\":\"피겨스케이팅\", \"류현진\":\"야구\", \"손흥민\":\"축구\", \"귀도\":\"파이썬\"}\n",
    "data_dic.clear()\n",
    "\n",
    "data_dic"
   ]
  },
  {
   "cell_type": "markdown",
   "id": "297a4132",
   "metadata": {},
   "source": [
    "### Key로 Value얻기(get)"
   ]
  },
  {
   "cell_type": "code",
   "execution_count": 37,
   "id": "e0c277bc",
   "metadata": {},
   "outputs": [
    {
     "data": {
      "text/plain": [
       "'파이썬'"
      ]
     },
     "execution_count": 37,
     "metadata": {},
     "output_type": "execute_result"
    }
   ],
   "source": [
    "data_dic = {\"김연아\":\"피겨스케이팅\", \"류현진\":\"야구\", \"손흥민\":\"축구\", \"귀도\":\"파이썬\"}\n",
    "data_dic.get(\"귀도\")"
   ]
  },
  {
   "cell_type": "code",
   "execution_count": 38,
   "id": "f13fbffb",
   "metadata": {},
   "outputs": [
    {
     "name": "stdout",
     "output_type": "stream",
     "text": [
      "None\n"
     ]
    }
   ],
   "source": [
    "d = data_dic.get(\"농구\")\n",
    "print(d)"
   ]
  },
  {
   "cell_type": "code",
   "execution_count": 39,
   "id": "7a4a9f32",
   "metadata": {},
   "outputs": [
    {
     "data": {
      "text/plain": [
       "{'김연아': '피겨스케이팅', '류현진': '야구', '손흥민': '축구', '귀도': '파이썬', '농구': '게임왕'}"
      ]
     },
     "execution_count": 39,
     "metadata": {},
     "output_type": "execute_result"
    }
   ],
   "source": [
    "data_dic = {\"김연아\":\"피겨스케이팅\", \"류현진\":\"야구\", \"손흥민\":\"축구\", \"귀도\":\"파이썬\"}\n",
    "key_name = [\"김연아\", \"류현진\", \"손흥민\", \"귀도\", \"농구\"]\n",
    "for name in key_name :\n",
    "    values = data_dic.get(name)\n",
    "    if values == None :\n",
    "        data_dic[name] = \"게임왕\"\n",
    "\n",
    "data_dic"
   ]
  },
  {
   "cell_type": "markdown",
   "id": "f1bb8133",
   "metadata": {},
   "source": [
    "### 해당 Key가 딕셔너리 안에 있는지 조사하기(in)"
   ]
  },
  {
   "cell_type": "code",
   "execution_count": 42,
   "id": "8621968e",
   "metadata": {},
   "outputs": [
    {
     "data": {
      "text/plain": [
       "True"
      ]
     },
     "execution_count": 42,
     "metadata": {},
     "output_type": "execute_result"
    }
   ],
   "source": [
    "data_dic = {\"김연아\":\"피겨스케이팅\", \"류현진\":\"야구\", \"손흥민\":\"축구\", \"귀도\":\"파이썬\"}\n",
    "\"류현진\" in data_dic"
   ]
  },
  {
   "cell_type": "code",
   "execution_count": 44,
   "id": "36234b84",
   "metadata": {},
   "outputs": [
    {
     "data": {
      "text/plain": [
       "{'김연아': '피겨스케이팅', '류현진': '야구', '손흥민': '축구', '귀도': '파이썬', '농구': '게임왕'}"
      ]
     },
     "execution_count": 44,
     "metadata": {},
     "output_type": "execute_result"
    }
   ],
   "source": [
    "data_dic = {\"김연아\":\"피겨스케이팅\", \"류현진\":\"야구\", \"손흥민\":\"축구\", \"귀도\":\"파이썬\"}\n",
    "key_name = [\"김연아\", \"류현진\", \"손흥민\", \"귀도\", \"농구\"]\n",
    "if \"농구\" not in data_dic :\n",
    "    data_dic[name] = \"게임왕\"\n",
    "    \n",
    "data_dic"
   ]
  }
 ],
 "metadata": {
  "kernelspec": {
   "display_name": "Python 3",
   "language": "python",
   "name": "python3"
  },
  "language_info": {
   "codemirror_mode": {
    "name": "ipython",
    "version": 3
   },
   "file_extension": ".py",
   "mimetype": "text/x-python",
   "name": "python",
   "nbconvert_exporter": "python",
   "pygments_lexer": "ipython3",
   "version": "3.8.9"
  }
 },
 "nbformat": 4,
 "nbformat_minor": 5
}
