{
 "cells": [
  {
   "cell_type": "code",
   "execution_count": 6,
   "id": "620b9ad3",
   "metadata": {},
   "outputs": [
    {
     "data": {
      "text/html": [
       "<style>.container { width:100% !important; }</style>"
      ],
      "text/plain": [
       "<IPython.core.display.HTML object>"
      ]
     },
     "metadata": {},
     "output_type": "display_data"
    }
   ],
   "source": [
    "from IPython.core.display import display, HTML\n",
    "display(HTML(\"<style>.container { width:100% !important; }</style>\"))"
   ]
  },
  {
   "cell_type": "code",
   "execution_count": 4,
   "id": "92e0df62",
   "metadata": {},
   "outputs": [
    {
     "data": {
      "text/plain": [
       "[11, 22, 33, 44, 55, 66]"
      ]
     },
     "execution_count": 4,
     "metadata": {},
     "output_type": "execute_result"
    }
   ],
   "source": [
    "n_list = [11, 22, 33, 44, 55, 66]\n",
    "n_list"
   ]
  },
  {
   "cell_type": "markdown",
   "id": "f08f78e4",
   "metadata": {},
   "source": [
    "### 리스트의 인덱싱과 슬라이싱"
   ]
  },
  {
   "cell_type": "code",
   "execution_count": 7,
   "id": "f7d18918",
   "metadata": {},
   "outputs": [
    {
     "data": {
      "text/plain": [
       "4"
      ]
     },
     "execution_count": 7,
     "metadata": {},
     "output_type": "execute_result"
    }
   ],
   "source": [
    "a = [1, 2, 3]\n",
    "a[0] + a[2]"
   ]
  },
  {
   "cell_type": "markdown",
   "id": "f01fecfd",
   "metadata": {},
   "source": [
    "### 리스트안에 리스트도 올수 있다"
   ]
  },
  {
   "cell_type": "code",
   "execution_count": 12,
   "id": "69090ab6",
   "metadata": {},
   "outputs": [
    {
     "data": {
      "text/plain": [
       "'c'"
      ]
     },
     "execution_count": 12,
     "metadata": {},
     "output_type": "execute_result"
    }
   ],
   "source": [
    "a = [1, 2, 3, ['a', 'b', 'c']]\n",
    "a[3][2]"
   ]
  },
  {
   "cell_type": "code",
   "execution_count": 13,
   "id": "f1735c95",
   "metadata": {},
   "outputs": [
    {
     "data": {
      "text/plain": [
       "'Life'"
      ]
     },
     "execution_count": 13,
     "metadata": {},
     "output_type": "execute_result"
    }
   ],
   "source": [
    "a = [1, 2, ['a', 'b', ['Life', 'is']]]\n",
    "\n",
    "# Life 인덱싱\n",
    "a[2][2][0]"
   ]
  },
  {
   "cell_type": "markdown",
   "id": "021217d8",
   "metadata": {},
   "source": [
    "### 음수 인덱싱"
   ]
  },
  {
   "cell_type": "code",
   "execution_count": 17,
   "id": "d5271232",
   "metadata": {},
   "outputs": [
    {
     "data": {
      "text/plain": [
       "'a'"
      ]
     },
     "execution_count": 17,
     "metadata": {},
     "output_type": "execute_result"
    }
   ],
   "source": [
    "# 'a'를 음수 인덱싱를 이용해서 찾기\n",
    "a = [1, 2, 3, ['a', 'b', 'c']]\n",
    "a[-1][-3]"
   ]
  },
  {
   "cell_type": "markdown",
   "id": "b0a9ff53",
   "metadata": {},
   "source": [
    "### 리스트의 슬라이싱"
   ]
  },
  {
   "cell_type": "code",
   "execution_count": 26,
   "id": "6160801b",
   "metadata": {},
   "outputs": [
    {
     "name": "stdout",
     "output_type": "stream",
     "text": [
      "[1, 2, 3, 4, 5]\n",
      "[1, 2]\n",
      "[1, 2]\n",
      "[3, 4, 5]\n"
     ]
    }
   ],
   "source": [
    "a = [1, 2, 3, 4, 5]\n",
    "b = a[0:2]\n",
    "c = a[:2]\n",
    "d = a[2:]\n",
    "\n",
    "print(a)\n",
    "print(b)\n",
    "print(c)\n",
    "print(d)"
   ]
  },
  {
   "cell_type": "markdown",
   "id": "80016829",
   "metadata": {},
   "source": [
    "### 리스트의 음수 슬라이싱"
   ]
  },
  {
   "cell_type": "code",
   "execution_count": 27,
   "id": "61d241ed",
   "metadata": {},
   "outputs": [
    {
     "name": "stdout",
     "output_type": "stream",
     "text": [
      "[3, 4]\n",
      "[2, 3, 4, 5]\n",
      "[1, 2, 3]\n"
     ]
    }
   ],
   "source": [
    "a = [1, 2, 3, 4, 5]\n",
    "r1 = a[-3:-1]\n",
    "r2 = a[-4:]\n",
    "r3 = a[:-2]\n",
    "\n",
    "print(r1)\n",
    "print(r2)\n",
    "print(r3)"
   ]
  },
  {
   "cell_type": "markdown",
   "id": "6beafc6b",
   "metadata": {},
   "source": [
    "### 리스트 연산하기"
   ]
  },
  {
   "cell_type": "code",
   "execution_count": 29,
   "id": "c53259ca",
   "metadata": {},
   "outputs": [
    {
     "data": {
      "text/plain": [
       "[1, 2, 3, 4, 5, 6]"
      ]
     },
     "execution_count": 29,
     "metadata": {},
     "output_type": "execute_result"
    }
   ],
   "source": [
    "# 리스트 더하기\n",
    "a = [1, 2, 3]\n",
    "b = [4, 5, 6]\n",
    "a + b"
   ]
  },
  {
   "cell_type": "code",
   "execution_count": 33,
   "id": "8d9885c0",
   "metadata": {},
   "outputs": [
    {
     "name": "stdout",
     "output_type": "stream",
     "text": [
      "[1, 2, 3, 1, 2, 3, 1, 2, 3]\n",
      "[4, 5, 6, 4, 5, 6, 4, 5, 6]\n"
     ]
    }
   ],
   "source": [
    "# 리스트 반복하기(*)\n",
    "a = [1, 2, 3]\n",
    "b = [4, 5, 6]\n",
    "r1 = a * 3\n",
    "r2 = b * 3\n",
    "\n",
    "print(r1)\n",
    "print(r2)"
   ]
  },
  {
   "cell_type": "code",
   "execution_count": 36,
   "id": "3e05210e",
   "metadata": {},
   "outputs": [
    {
     "name": "stdout",
     "output_type": "stream",
     "text": [
      "3\n",
      "7\n"
     ]
    }
   ],
   "source": [
    "# 리스트 길이구하기\n",
    "a = [1, 2, 3]\n",
    "b = [4, 5, 6, 7, 8, 9, 10]\n",
    "\n",
    "r1 = len(a)\n",
    "r2 = len(b)\n",
    "\n",
    "print(r1)\n",
    "print(r2)"
   ]
  },
  {
   "cell_type": "markdown",
   "id": "d4eed37b",
   "metadata": {},
   "source": [
    "### 리스트의 수정과 삭제"
   ]
  },
  {
   "cell_type": "code",
   "execution_count": 37,
   "id": "1c2fdd7f",
   "metadata": {},
   "outputs": [
    {
     "data": {
      "text/plain": [
       "[1, 2, 4]"
      ]
     },
     "execution_count": 37,
     "metadata": {},
     "output_type": "execute_result"
    }
   ],
   "source": [
    "# 리스트에서 값 수정하기\n",
    "a = [1, 2, 3]\n",
    "a[2] = 4\n",
    "a"
   ]
  },
  {
   "cell_type": "code",
   "execution_count": 43,
   "id": "02a25053",
   "metadata": {},
   "outputs": [
    {
     "data": {
      "text/plain": [
       "[1, 2, 4, 5]"
      ]
     },
     "execution_count": 43,
     "metadata": {},
     "output_type": "execute_result"
    }
   ],
   "source": [
    "# del 키워드 사용해 리스트 요소 삭제하기\n",
    "a = [1, 2, 3, 4, 5]\n",
    "del a[2]\n",
    "a"
   ]
  },
  {
   "cell_type": "code",
   "execution_count": 45,
   "id": "5cf025d9",
   "metadata": {},
   "outputs": [
    {
     "data": {
      "text/plain": [
       "[3, 4, 5]"
      ]
     },
     "execution_count": 45,
     "metadata": {},
     "output_type": "execute_result"
    }
   ],
   "source": [
    "# del 키워드 사용해 리스트 요소 삭제하기(슬라이싱)\n",
    "a = [1, 2, 3, 4, 5]\n",
    "del a[:2]\n",
    "a"
   ]
  },
  {
   "cell_type": "markdown",
   "id": "467a7156",
   "metadata": {},
   "source": [
    "### 리스트 요소 제거(remove)"
   ]
  },
  {
   "cell_type": "markdown",
   "id": "68614b79",
   "metadata": {},
   "source": [
    "###### remove(x)는 리스트에서 첫 번째로 나오는 x를 삭제하는 함수이다."
   ]
  },
  {
   "cell_type": "code",
   "execution_count": 53,
   "id": "2d3664ac",
   "metadata": {},
   "outputs": [
    {
     "data": {
      "text/plain": [
       "['b', 'c']"
      ]
     },
     "execution_count": 53,
     "metadata": {},
     "output_type": "execute_result"
    }
   ],
   "source": [
    "a = ['a', 'b', 'c']\n",
    "a.remove('a')\n",
    "a"
   ]
  },
  {
   "cell_type": "code",
   "execution_count": 54,
   "id": "ab344516",
   "metadata": {},
   "outputs": [
    {
     "data": {
      "text/plain": [
       "[1, 2, 1, 2, 3]"
      ]
     },
     "execution_count": 54,
     "metadata": {},
     "output_type": "execute_result"
    }
   ],
   "source": [
    "b = [1, 2, 3, 1, 2, 3]\n",
    "b.remove(3)\n",
    "b"
   ]
  },
  {
   "cell_type": "code",
   "execution_count": 60,
   "id": "833ae96f",
   "metadata": {},
   "outputs": [
    {
     "data": {
      "text/plain": [
       "['a', 'b', [1, 2, 3, 5], 'c']"
      ]
     },
     "execution_count": 60,
     "metadata": {},
     "output_type": "execute_result"
    }
   ],
   "source": [
    "a = ['a', 'b', [1, 2, 3, 4, 5], 'c']\n",
    "a[2].remove(4)\n",
    "a"
   ]
  },
  {
   "cell_type": "markdown",
   "id": "77222e69",
   "metadata": {},
   "source": [
    "### 리스트 요소 끄집어내기(pop)"
   ]
  },
  {
   "cell_type": "markdown",
   "id": "81dd798d",
   "metadata": {},
   "source": [
    "###### pop()은 리스트의 맨 마지막 요소를 돌려주고 그 요소는 삭제한다.\n",
    "###### 인덱스값 요소 끄집어낸다"
   ]
  },
  {
   "cell_type": "code",
   "execution_count": 62,
   "id": "d5e69ff4",
   "metadata": {},
   "outputs": [
    {
     "data": {
      "text/plain": [
       "3"
      ]
     },
     "execution_count": 62,
     "metadata": {},
     "output_type": "execute_result"
    }
   ],
   "source": [
    "a = [1, 2, 3]\n",
    "a.pop()"
   ]
  },
  {
   "cell_type": "code",
   "execution_count": 66,
   "id": "e30a7a8a",
   "metadata": {},
   "outputs": [
    {
     "data": {
      "text/plain": [
       "2"
      ]
     },
     "execution_count": 66,
     "metadata": {},
     "output_type": "execute_result"
    }
   ],
   "source": [
    "a = [1, 2, 3]\n",
    "a.pop(1)"
   ]
  },
  {
   "cell_type": "markdown",
   "id": "16c520ed",
   "metadata": {},
   "source": [
    "### 리스트에 요소 추가(append)"
   ]
  },
  {
   "cell_type": "markdown",
   "id": "28720769",
   "metadata": {},
   "source": [
    "###### append(x)는 리스트의 맨 마지막에 x를 추가하는 함수이다."
   ]
  },
  {
   "cell_type": "code",
   "execution_count": 68,
   "id": "b78d5307",
   "metadata": {},
   "outputs": [
    {
     "name": "stdout",
     "output_type": "stream",
     "text": [
      "[1, 2, 3, 4]\n",
      "[1, 2, 3, [5, 6]]\n"
     ]
    }
   ],
   "source": [
    "a = [1, 2, 3]\n",
    "a.append(4)\n",
    "print(a)\n",
    "\n",
    "b = [1, 2, 3]\n",
    "b.append([5, 6])\n",
    "print(b)"
   ]
  },
  {
   "cell_type": "markdown",
   "id": "4de637e6",
   "metadata": {},
   "source": [
    "### 리스트에 요소 삽입(insert), 리스트.insert(입력할 index, 값)"
   ]
  },
  {
   "cell_type": "code",
   "execution_count": 75,
   "id": "9be11dbd",
   "metadata": {},
   "outputs": [
    {
     "name": "stdout",
     "output_type": "stream",
     "text": [
      "[4, 1, 2, 3]\n",
      "['a', 'p', 'p', 'l', 'e']\n"
     ]
    }
   ],
   "source": [
    "a = [1, 2, 3]\n",
    "a.insert(0 ,4)\n",
    "print(a)\n",
    "\n",
    "b = ['p', 'p', 'l', 'e']\n",
    "b.insert(0, 'a')\n",
    "print(b)"
   ]
  },
  {
   "cell_type": "markdown",
   "id": "2a46d19a",
   "metadata": {},
   "source": [
    "### +연산자로 더하기"
   ]
  },
  {
   "cell_type": "code",
   "execution_count": 76,
   "id": "0a048548",
   "metadata": {},
   "outputs": [
    {
     "data": {
      "text/plain": [
       "[1, 2, 3, 4, 5, 6]"
      ]
     },
     "execution_count": 76,
     "metadata": {},
     "output_type": "execute_result"
    }
   ],
   "source": [
    "a = [1, 2, 3]\n",
    "b = [4, 5, 6]\n",
    "a + b"
   ]
  },
  {
   "cell_type": "markdown",
   "id": "012dabc1",
   "metadata": {},
   "source": [
    "### extend메소드 : 리스트.extend(추가할 리스트)"
   ]
  },
  {
   "cell_type": "code",
   "execution_count": 77,
   "id": "f749f1df",
   "metadata": {},
   "outputs": [
    {
     "data": {
      "text/plain": [
       "[1, 2, 3, 4, 5]"
      ]
     },
     "execution_count": 77,
     "metadata": {},
     "output_type": "execute_result"
    }
   ],
   "source": [
    "a = [1, 2, 3]\n",
    "a.extend([4, 5])\n",
    "a"
   ]
  },
  {
   "cell_type": "markdown",
   "id": "c185b919",
   "metadata": {},
   "source": [
    "### 리스트 정렬(sort)"
   ]
  },
  {
   "cell_type": "markdown",
   "id": "e3dae5db",
   "metadata": {},
   "source": [
    "###### sort 함수는 리스트의 요소를 순서대로 정렬해 준다."
   ]
  },
  {
   "cell_type": "code",
   "execution_count": 81,
   "id": "68235d0d",
   "metadata": {},
   "outputs": [
    {
     "name": "stdout",
     "output_type": "stream",
     "text": [
      "[1, 2, 3, 4]\n",
      "['a', 'b', 'c', 'd']\n"
     ]
    }
   ],
   "source": [
    "a = [1 ,4 ,3, 2]\n",
    "a.sort()\n",
    "print(a)\n",
    "\n",
    "b = ['d', 'a', 'c', 'b']\n",
    "b.sort()\n",
    "print(b)"
   ]
  },
  {
   "cell_type": "code",
   "execution_count": 82,
   "id": "a092b641",
   "metadata": {},
   "outputs": [
    {
     "data": {
      "text/plain": [
       "['성', '공', 'a']"
      ]
     },
     "execution_count": 82,
     "metadata": {},
     "output_type": "execute_result"
    }
   ],
   "source": [
    "# 역순정렬\n",
    "a = ['성', '공', 'a']\n",
    "a.sort(reverse=True) # 0은 False, 1은 True\n",
    "a"
   ]
  },
  {
   "cell_type": "markdown",
   "id": "9d4d901c",
   "metadata": {},
   "source": [
    "### 리스트 뒤집기(reverse)"
   ]
  },
  {
   "cell_type": "markdown",
   "id": "29e58ab0",
   "metadata": {},
   "source": [
    "###### reverse 함수는 리스트를 역순으로 뒤집어 준다. 이때 리스트 요소들을 순서대로 정렬한 다음 다시 역순으로 정렬하는 것이 아니라 그저 현재의 리스트를 그대로 거꾸로 뒤집는다."
   ]
  },
  {
   "cell_type": "code",
   "execution_count": 83,
   "id": "d167f68d",
   "metadata": {},
   "outputs": [
    {
     "data": {
      "text/plain": [
       "['d', 'a', 'b', 'c']"
      ]
     },
     "execution_count": 83,
     "metadata": {},
     "output_type": "execute_result"
    }
   ],
   "source": [
    "a = ['c', 'b', 'a', 'd']\n",
    "a.reverse()\n",
    "a"
   ]
  },
  {
   "cell_type": "markdown",
   "id": "daad59bc",
   "metadata": {},
   "source": [
    "### 리스트에 포함된 요소 x의 개수 세기(count)\n",
    "###### count(x)는 리스트 안에 x가 몇 개 있는지 조사하여 그 개수를 돌려주는 함수이다."
   ]
  },
  {
   "cell_type": "code",
   "execution_count": 88,
   "id": "5199394f",
   "metadata": {},
   "outputs": [
    {
     "name": "stdout",
     "output_type": "stream",
     "text": [
      "2\n",
      "15\n"
     ]
    }
   ],
   "source": [
    "a = [1,2,3,1]\n",
    "print(a.count(1))\n",
    "\n",
    "b = ['성', '공', '김', '성', '성', '성', '성', '성', '성','성', '성', '성', '성', '성', '성', '성', '성']\n",
    "print(b.count('성'))"
   ]
  }
 ],
 "metadata": {
  "kernelspec": {
   "display_name": "Python 3",
   "language": "python",
   "name": "python3"
  },
  "language_info": {
   "codemirror_mode": {
    "name": "ipython",
    "version": 3
   },
   "file_extension": ".py",
   "mimetype": "text/x-python",
   "name": "python",
   "nbconvert_exporter": "python",
   "pygments_lexer": "ipython3",
   "version": "3.8.9"
  }
 },
 "nbformat": 4,
 "nbformat_minor": 5
}
